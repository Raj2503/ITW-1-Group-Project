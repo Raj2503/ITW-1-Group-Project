{
 "metadata": {
  "language_info": {
   "codemirror_mode": {
    "name": "ipython",
    "version": 3
   },
   "file_extension": ".py",
   "mimetype": "text/x-python",
   "name": "python",
   "nbconvert_exporter": "python",
   "pygments_lexer": "ipython3",
   "version": "3.8.5-final"
  },
  "orig_nbformat": 2,
  "kernelspec": {
   "name": "python3",
   "display_name": "Python 3"
  }
 },
 "nbformat": 4,
 "nbformat_minor": 2,
 "cells": [
  {
   "cell_type": "code",
   "execution_count": 20,
   "metadata": {},
   "outputs": [
    {
     "output_type": "execute_result",
     "data": {
      "text/plain": [
       "   #       Name     Day1     Day2     Day3     Day4  Day5  Day6  Day7  Day8  \\\n",
       "0  1  Raj Aryan  Present      NaN  Present   Absent   NaN   NaN   NaN   NaN   \n",
       "1  2    Present  Present      NaN  Present  Present   NaN   NaN   NaN   NaN   \n",
       "2  3   Hemanshu      NaN  Present  Present   Absent   NaN   NaN   NaN   NaN   \n",
       "3  4      Krish  Present  Present  Present  Present   NaN   NaN   NaN   NaN   \n",
       "4  5    Prateek   Absent   Absent  Present   Absent   NaN   NaN   NaN   NaN   \n",
       "\n",
       "   ... Day31  Day32  Day33  Day34  Day35  Day36  Day37  Day38  Day39  Day40  \n",
       "0  ...   NaN    NaN    NaN    NaN    NaN    NaN    NaN    NaN    NaN    NaN  \n",
       "1  ...   NaN    NaN    NaN    NaN    NaN    NaN    NaN    NaN    NaN    NaN  \n",
       "2  ...   NaN    NaN    NaN    NaN    NaN    NaN    NaN    NaN    NaN    NaN  \n",
       "3  ...   NaN    NaN    NaN    NaN    NaN    NaN    NaN    NaN    NaN    NaN  \n",
       "4  ...   NaN    NaN    NaN    NaN    NaN    NaN    NaN    NaN    NaN    NaN  \n",
       "\n",
       "[5 rows x 42 columns]"
      ],
      "text/html": "<div>\n<style scoped>\n    .dataframe tbody tr th:only-of-type {\n        vertical-align: middle;\n    }\n\n    .dataframe tbody tr th {\n        vertical-align: top;\n    }\n\n    .dataframe thead th {\n        text-align: right;\n    }\n</style>\n<table border=\"1\" class=\"dataframe\">\n  <thead>\n    <tr style=\"text-align: right;\">\n      <th></th>\n      <th>#</th>\n      <th>Name</th>\n      <th>Day1</th>\n      <th>Day2</th>\n      <th>Day3</th>\n      <th>Day4</th>\n      <th>Day5</th>\n      <th>Day6</th>\n      <th>Day7</th>\n      <th>Day8</th>\n      <th>...</th>\n      <th>Day31</th>\n      <th>Day32</th>\n      <th>Day33</th>\n      <th>Day34</th>\n      <th>Day35</th>\n      <th>Day36</th>\n      <th>Day37</th>\n      <th>Day38</th>\n      <th>Day39</th>\n      <th>Day40</th>\n    </tr>\n  </thead>\n  <tbody>\n    <tr>\n      <th>0</th>\n      <td>1</td>\n      <td>Raj Aryan</td>\n      <td>Present</td>\n      <td>NaN</td>\n      <td>Present</td>\n      <td>Absent</td>\n      <td>NaN</td>\n      <td>NaN</td>\n      <td>NaN</td>\n      <td>NaN</td>\n      <td>...</td>\n      <td>NaN</td>\n      <td>NaN</td>\n      <td>NaN</td>\n      <td>NaN</td>\n      <td>NaN</td>\n      <td>NaN</td>\n      <td>NaN</td>\n      <td>NaN</td>\n      <td>NaN</td>\n      <td>NaN</td>\n    </tr>\n    <tr>\n      <th>1</th>\n      <td>2</td>\n      <td>Present</td>\n      <td>Present</td>\n      <td>NaN</td>\n      <td>Present</td>\n      <td>Present</td>\n      <td>NaN</td>\n      <td>NaN</td>\n      <td>NaN</td>\n      <td>NaN</td>\n      <td>...</td>\n      <td>NaN</td>\n      <td>NaN</td>\n      <td>NaN</td>\n      <td>NaN</td>\n      <td>NaN</td>\n      <td>NaN</td>\n      <td>NaN</td>\n      <td>NaN</td>\n      <td>NaN</td>\n      <td>NaN</td>\n    </tr>\n    <tr>\n      <th>2</th>\n      <td>3</td>\n      <td>Hemanshu</td>\n      <td>NaN</td>\n      <td>Present</td>\n      <td>Present</td>\n      <td>Absent</td>\n      <td>NaN</td>\n      <td>NaN</td>\n      <td>NaN</td>\n      <td>NaN</td>\n      <td>...</td>\n      <td>NaN</td>\n      <td>NaN</td>\n      <td>NaN</td>\n      <td>NaN</td>\n      <td>NaN</td>\n      <td>NaN</td>\n      <td>NaN</td>\n      <td>NaN</td>\n      <td>NaN</td>\n      <td>NaN</td>\n    </tr>\n    <tr>\n      <th>3</th>\n      <td>4</td>\n      <td>Krish</td>\n      <td>Present</td>\n      <td>Present</td>\n      <td>Present</td>\n      <td>Present</td>\n      <td>NaN</td>\n      <td>NaN</td>\n      <td>NaN</td>\n      <td>NaN</td>\n      <td>...</td>\n      <td>NaN</td>\n      <td>NaN</td>\n      <td>NaN</td>\n      <td>NaN</td>\n      <td>NaN</td>\n      <td>NaN</td>\n      <td>NaN</td>\n      <td>NaN</td>\n      <td>NaN</td>\n      <td>NaN</td>\n    </tr>\n    <tr>\n      <th>4</th>\n      <td>5</td>\n      <td>Prateek</td>\n      <td>Absent</td>\n      <td>Absent</td>\n      <td>Present</td>\n      <td>Absent</td>\n      <td>NaN</td>\n      <td>NaN</td>\n      <td>NaN</td>\n      <td>NaN</td>\n      <td>...</td>\n      <td>NaN</td>\n      <td>NaN</td>\n      <td>NaN</td>\n      <td>NaN</td>\n      <td>NaN</td>\n      <td>NaN</td>\n      <td>NaN</td>\n      <td>NaN</td>\n      <td>NaN</td>\n      <td>NaN</td>\n    </tr>\n  </tbody>\n</table>\n<p>5 rows × 42 columns</p>\n</div>"
     },
     "metadata": {},
     "execution_count": 20
    }
   ],
   "source": [
    "df = pd.ExcelFile('output.xlsx')\n",
    "Sheet_names_list = df.sheet_names\n",
    "dflist = []\n",
    "\n",
    "for sheet in Sheet_names_list :\n",
    "   dflist.append(df.parse(sheet_name=sheet,index_col=None))\n",
    "dflist[1]"
   ]
  },
  {
   "cell_type": "code",
   "execution_count": 21,
   "metadata": {},
   "outputs": [
    {
     "output_type": "execute_result",
     "data": {
      "text/plain": [
       "Day1      True\n",
       "Day2      True\n",
       "Day3      True\n",
       "Day4      True\n",
       "Day5      True\n",
       "Day6     False\n",
       "Day7     False\n",
       "Day8     False\n",
       "Day9     False\n",
       "Day10    False\n",
       "Day11    False\n",
       "Day12    False\n",
       "Day13    False\n",
       "Day14    False\n",
       "Day15    False\n",
       "Day16    False\n",
       "Day17    False\n",
       "Day18    False\n",
       "Day19    False\n",
       "Day20    False\n",
       "Day21    False\n",
       "Day22    False\n",
       "Day23    False\n",
       "Day24    False\n",
       "Day25    False\n",
       "Day26    False\n",
       "Day27    False\n",
       "Day28    False\n",
       "Day29    False\n",
       "Day30    False\n",
       "Day31    False\n",
       "Day32    False\n",
       "Day33    False\n",
       "Day34    False\n",
       "Day35    False\n",
       "Day36    False\n",
       "Day37    False\n",
       "Day38    False\n",
       "Day39    False\n",
       "Day40    False\n",
       "Name: 0, dtype: bool"
      ]
     },
     "metadata": {},
     "execution_count": 21
    }
   ],
   "source": [
    "(dflist[0].iloc[0,2:]==\"Present\")"
   ]
  },
  {
   "cell_type": "code",
   "execution_count": 22,
   "metadata": {},
   "outputs": [
    {
     "output_type": "execute_result",
     "data": {
      "text/plain": [
       "9"
      ]
     },
     "metadata": {},
     "execution_count": 22
    }
   ],
   "source": [
    "40 - (dflist[0].iloc[0,2:].isnull()).sum()"
   ]
  },
  {
   "cell_type": "code",
   "execution_count": 23,
   "metadata": {},
   "outputs": [
    {
     "output_type": "execute_result",
     "data": {
      "text/plain": [
       "   #       Name     Day1     Day2     Day3     Day4  Day5  Day6  Day7  Day8  \\\n",
       "0  1  Raj Aryan  Present      NaN  Present   Absent   NaN   NaN   NaN   NaN   \n",
       "1  2    Present  Present      NaN  Present  Present   NaN   NaN   NaN   NaN   \n",
       "2  3   Hemanshu      NaN  Present  Present   Absent   NaN   NaN   NaN   NaN   \n",
       "3  4      Krish  Present  Present  Present  Present   NaN   NaN   NaN   NaN   \n",
       "4  5    Prateek   Absent   Absent  Present   Absent   NaN   NaN   NaN   NaN   \n",
       "\n",
       "   ... Day31  Day32  Day33  Day34  Day35  Day36  Day37  Day38  Day39  Day40  \n",
       "0  ...   NaN    NaN    NaN    NaN    NaN    NaN    NaN    NaN    NaN    NaN  \n",
       "1  ...   NaN    NaN    NaN    NaN    NaN    NaN    NaN    NaN    NaN    NaN  \n",
       "2  ...   NaN    NaN    NaN    NaN    NaN    NaN    NaN    NaN    NaN    NaN  \n",
       "3  ...   NaN    NaN    NaN    NaN    NaN    NaN    NaN    NaN    NaN    NaN  \n",
       "4  ...   NaN    NaN    NaN    NaN    NaN    NaN    NaN    NaN    NaN    NaN  \n",
       "\n",
       "[5 rows x 42 columns]"
      ],
      "text/html": "<div>\n<style scoped>\n    .dataframe tbody tr th:only-of-type {\n        vertical-align: middle;\n    }\n\n    .dataframe tbody tr th {\n        vertical-align: top;\n    }\n\n    .dataframe thead th {\n        text-align: right;\n    }\n</style>\n<table border=\"1\" class=\"dataframe\">\n  <thead>\n    <tr style=\"text-align: right;\">\n      <th></th>\n      <th>#</th>\n      <th>Name</th>\n      <th>Day1</th>\n      <th>Day2</th>\n      <th>Day3</th>\n      <th>Day4</th>\n      <th>Day5</th>\n      <th>Day6</th>\n      <th>Day7</th>\n      <th>Day8</th>\n      <th>...</th>\n      <th>Day31</th>\n      <th>Day32</th>\n      <th>Day33</th>\n      <th>Day34</th>\n      <th>Day35</th>\n      <th>Day36</th>\n      <th>Day37</th>\n      <th>Day38</th>\n      <th>Day39</th>\n      <th>Day40</th>\n    </tr>\n  </thead>\n  <tbody>\n    <tr>\n      <th>0</th>\n      <td>1</td>\n      <td>Raj Aryan</td>\n      <td>Present</td>\n      <td>NaN</td>\n      <td>Present</td>\n      <td>Absent</td>\n      <td>NaN</td>\n      <td>NaN</td>\n      <td>NaN</td>\n      <td>NaN</td>\n      <td>...</td>\n      <td>NaN</td>\n      <td>NaN</td>\n      <td>NaN</td>\n      <td>NaN</td>\n      <td>NaN</td>\n      <td>NaN</td>\n      <td>NaN</td>\n      <td>NaN</td>\n      <td>NaN</td>\n      <td>NaN</td>\n    </tr>\n    <tr>\n      <th>1</th>\n      <td>2</td>\n      <td>Present</td>\n      <td>Present</td>\n      <td>NaN</td>\n      <td>Present</td>\n      <td>Present</td>\n      <td>NaN</td>\n      <td>NaN</td>\n      <td>NaN</td>\n      <td>NaN</td>\n      <td>...</td>\n      <td>NaN</td>\n      <td>NaN</td>\n      <td>NaN</td>\n      <td>NaN</td>\n      <td>NaN</td>\n      <td>NaN</td>\n      <td>NaN</td>\n      <td>NaN</td>\n      <td>NaN</td>\n      <td>NaN</td>\n    </tr>\n    <tr>\n      <th>2</th>\n      <td>3</td>\n      <td>Hemanshu</td>\n      <td>NaN</td>\n      <td>Present</td>\n      <td>Present</td>\n      <td>Absent</td>\n      <td>NaN</td>\n      <td>NaN</td>\n      <td>NaN</td>\n      <td>NaN</td>\n      <td>...</td>\n      <td>NaN</td>\n      <td>NaN</td>\n      <td>NaN</td>\n      <td>NaN</td>\n      <td>NaN</td>\n      <td>NaN</td>\n      <td>NaN</td>\n      <td>NaN</td>\n      <td>NaN</td>\n      <td>NaN</td>\n    </tr>\n    <tr>\n      <th>3</th>\n      <td>4</td>\n      <td>Krish</td>\n      <td>Present</td>\n      <td>Present</td>\n      <td>Present</td>\n      <td>Present</td>\n      <td>NaN</td>\n      <td>NaN</td>\n      <td>NaN</td>\n      <td>NaN</td>\n      <td>...</td>\n      <td>NaN</td>\n      <td>NaN</td>\n      <td>NaN</td>\n      <td>NaN</td>\n      <td>NaN</td>\n      <td>NaN</td>\n      <td>NaN</td>\n      <td>NaN</td>\n      <td>NaN</td>\n      <td>NaN</td>\n    </tr>\n    <tr>\n      <th>4</th>\n      <td>5</td>\n      <td>Prateek</td>\n      <td>Absent</td>\n      <td>Absent</td>\n      <td>Present</td>\n      <td>Absent</td>\n      <td>NaN</td>\n      <td>NaN</td>\n      <td>NaN</td>\n      <td>NaN</td>\n      <td>...</td>\n      <td>NaN</td>\n      <td>NaN</td>\n      <td>NaN</td>\n      <td>NaN</td>\n      <td>NaN</td>\n      <td>NaN</td>\n      <td>NaN</td>\n      <td>NaN</td>\n      <td>NaN</td>\n      <td>NaN</td>\n    </tr>\n  </tbody>\n</table>\n<p>5 rows × 42 columns</p>\n</div>"
     },
     "metadata": {},
     "execution_count": 23
    }
   ],
   "source": [
    "import pandas as pd \n",
    "import numpy as np \n",
    "  \n",
    "dict = {'Name':['Martha', 'Tim', 'Rob', 'Georgia'], \n",
    "        'Maths':[87, 91, 97, 95], \n",
    "        'Science':[83, 99, 84, 76] \n",
    "       } \n",
    "  \n",
    "df = pd.DataFrame(dict) \n",
    "  \n",
    "\n",
    "\n",
    "dflist[1] "
   ]
  },
  {
   "cell_type": "code",
   "execution_count": 27,
   "metadata": {},
   "outputs": [
    {
     "output_type": "execute_result",
     "data": {
      "text/plain": [
       "65"
      ]
     },
     "metadata": {},
     "execution_count": 27
    }
   ],
   "source": [
    "len(dflist[0].index)+2"
   ]
  },
  {
   "cell_type": "code",
   "execution_count": 9,
   "metadata": {},
   "outputs": [
    {
     "output_type": "error",
     "ename": "SyntaxError",
     "evalue": "invalid syntax (<ipython-input-9-f34e475a349e>, line 7)",
     "traceback": [
      "\u001b[1;36m  File \u001b[1;32m\"<ipython-input-9-f34e475a349e>\"\u001b[1;36m, line \u001b[1;32m7\u001b[0m\n\u001b[1;33m    df = df[df.'name' != 'Molly']\u001b[0m\n\u001b[1;37m               ^\u001b[0m\n\u001b[1;31mSyntaxError\u001b[0m\u001b[1;31m:\u001b[0m invalid syntax\n"
     ]
    }
   ],
   "source": [
    "import pandas as pd \n",
    "data = {'name': ['Jason', 'Molly', 'Tina', 'Jake', 'Amy'], \n",
    "        'year': [2012, 2012, 2013, 2014, 2014], \n",
    "        'reports': [4, 24, 31, 2, 3]}\n",
    "df = pd.DataFrame(data, index = ['Cochice', 'Pima', 'Santa Cruz', 'Maricopa', 'Yuma'])\n",
    "\n",
    "df = df[df.'name' != 'Molly']\n",
    "df"
   ]
  },
  {
   "cell_type": "code",
   "execution_count": 21,
   "metadata": {},
   "outputs": [
    {
     "output_type": "stream",
     "name": "stdout",
     "text": [
      "    RollNo       Name     Day1     Day2     Day3     Day4     Day5     Day6  \\\n0        1  Raj Aryan  Present  Present  Present  Present  Present   Absent   \n1        3   Hemanshu  Present  Present  Present  Present  Present  Present   \n2        4      Krish  Present  Present  Present   Absent  Present  Present   \n3        5    Prateek  Present   Absent  Present  Present   Absent  Present   \n4        6  Raj Aryan  Present  Present  Present  Present  Present  Present   \n..     ...        ...      ...      ...      ...      ...      ...      ...   \n58      60  Raj Aryan  Present  Present  Present  Present   Absent  Present   \n59      61  Raj Aryan  Present   Absent  Present  Present  Present  Present   \n60      62  Raj Aryan  Present  Present  Present  Present  Present  Present   \n61      63  Raj Aryan  Present  Present  Present  Present  Present  Present   \n62      64  Raj Aryan  Present  Present  Present   Absent  Present  Present   \n\n       Day7     Day8  ... Day31  Day32  Day33  Day34  Day35  Day36  Day37  \\\n0    Absent   Absent  ...   NaN    NaN    NaN    NaN    NaN    NaN    NaN   \n1   Present  Present  ...   NaN    NaN    NaN    NaN    NaN    NaN    NaN   \n2    Absent   Absent  ...   NaN    NaN    NaN    NaN    NaN    NaN    NaN   \n3   Present  Present  ...   NaN    NaN    NaN    NaN    NaN    NaN    NaN   \n4    Absent   Absent  ...   NaN    NaN    NaN    NaN    NaN    NaN    NaN   \n..      ...      ...  ...   ...    ...    ...    ...    ...    ...    ...   \n58   Absent   Absent  ...   NaN    NaN    NaN    NaN    NaN    NaN    NaN   \n59  Present  Present  ...   NaN    NaN    NaN    NaN    NaN    NaN    NaN   \n60   Absent   Absent  ...   NaN    NaN    NaN    NaN    NaN    NaN    NaN   \n61  Present  Present  ...   NaN    NaN    NaN    NaN    NaN    NaN    NaN   \n62   Absent   Absent  ...   NaN    NaN    NaN    NaN    NaN    NaN    NaN   \n\n    Day38  Day39  Day40  \n0     NaN    NaN    NaN  \n1     NaN    NaN    NaN  \n2     NaN    NaN    NaN  \n3     NaN    NaN    NaN  \n4     NaN    NaN    NaN  \n..    ...    ...    ...  \n58    NaN    NaN    NaN  \n59    NaN    NaN    NaN  \n60    NaN    NaN    NaN  \n61    NaN    NaN    NaN  \n62    NaN    NaN    NaN  \n\n[63 rows x 42 columns]\n   RollNo       Name     Day1     Day2     Day3     Day4  Day5  Day6  Day7  \\\n0       1  Raj Aryan  Present      NaN  Present   Absent   NaN   NaN   NaN   \n1       2    Present  Present      NaN  Present  Present   NaN   NaN   NaN   \n2       3   Hemanshu      NaN  Present  Present   Absent   NaN   NaN   NaN   \n3       4      Krish  Present  Present  Present  Present   NaN   NaN   NaN   \n4       5    Prateek   Absent   Absent  Present   Absent   NaN   NaN   NaN   \n\n   Day8  ... Day31  Day32  Day33  Day34  Day35  Day36  Day37  Day38  Day39  \\\n0   NaN  ...   NaN    NaN    NaN    NaN    NaN    NaN    NaN    NaN    NaN   \n1   NaN  ...   NaN    NaN    NaN    NaN    NaN    NaN    NaN    NaN    NaN   \n2   NaN  ...   NaN    NaN    NaN    NaN    NaN    NaN    NaN    NaN    NaN   \n3   NaN  ...   NaN    NaN    NaN    NaN    NaN    NaN    NaN    NaN    NaN   \n4   NaN  ...   NaN    NaN    NaN    NaN    NaN    NaN    NaN    NaN    NaN   \n\n   Day40  \n0    NaN  \n1    NaN  \n2    NaN  \n3    NaN  \n4    NaN  \n\n[5 rows x 42 columns]\n   RollNo       Name     Day1     Day2     Day3     Day4  Day5  Day6  Day7  \\\n0       1  Raj Aryan  Present      NaN  Present   Absent   NaN   NaN   NaN   \n1       2    Present  Present      NaN  Present  Present   NaN   NaN   NaN   \n2       3   Hemanshu      NaN  Present  Present   Absent   NaN   NaN   NaN   \n3       4      Krish  Present  Present  Present  Present   NaN   NaN   NaN   \n4       5    Prateek   Absent   Absent  Present   Absent   NaN   NaN   NaN   \n\n   Day8  ... Day31  Day32  Day33  Day34  Day35  Day36  Day37  Day38  Day39  \\\n0   NaN  ...   NaN    NaN    NaN    NaN    NaN    NaN    NaN    NaN    NaN   \n1   NaN  ...   NaN    NaN    NaN    NaN    NaN    NaN    NaN    NaN    NaN   \n2   NaN  ...   NaN    NaN    NaN    NaN    NaN    NaN    NaN    NaN    NaN   \n3   NaN  ...   NaN    NaN    NaN    NaN    NaN    NaN    NaN    NaN    NaN   \n4   NaN  ...   NaN    NaN    NaN    NaN    NaN    NaN    NaN    NaN    NaN   \n\n   Day40  \n0    NaN  \n1    NaN  \n2    NaN  \n3    NaN  \n4    NaN  \n\n[5 rows x 42 columns]\n   RollNo       Name     Day1     Day2     Day3     Day4  Day5  Day6  Day7  \\\n0       1  Raj Aryan  Present      NaN  Present   Absent   NaN   NaN   NaN   \n1       2    Present  Present      NaN  Present  Present   NaN   NaN   NaN   \n2       3   Hemanshu      NaN  Present  Present   Absent   NaN   NaN   NaN   \n3       4      Krish  Present  Present  Present  Present   NaN   NaN   NaN   \n4       5    Prateek   Absent   Absent  Present   Absent   NaN   NaN   NaN   \n\n   Day8  ... Day31  Day32  Day33  Day34  Day35  Day36  Day37  Day38  Day39  \\\n0   NaN  ...   NaN    NaN    NaN    NaN    NaN    NaN    NaN    NaN    NaN   \n1   NaN  ...   NaN    NaN    NaN    NaN    NaN    NaN    NaN    NaN    NaN   \n2   NaN  ...   NaN    NaN    NaN    NaN    NaN    NaN    NaN    NaN    NaN   \n3   NaN  ...   NaN    NaN    NaN    NaN    NaN    NaN    NaN    NaN    NaN   \n4   NaN  ...   NaN    NaN    NaN    NaN    NaN    NaN    NaN    NaN    NaN   \n\n   Day40  \n0    NaN  \n1    NaN  \n2    NaN  \n3    NaN  \n4    NaN  \n\n[5 rows x 42 columns]\n   RollNo       Name     Day1     Day2     Day3     Day4  Day5  Day6  Day7  \\\n0       1  Raj Aryan  Present      NaN  Present   Absent   NaN   NaN   NaN   \n1       2    Present  Present      NaN  Present  Present   NaN   NaN   NaN   \n2       3   Hemanshu      NaN  Present  Present   Absent   NaN   NaN   NaN   \n3       4      Krish  Present  Present  Present  Present   NaN   NaN   NaN   \n4       5    Prateek   Absent   Absent  Present   Absent   NaN   NaN   NaN   \n\n   Day8  ... Day31  Day32  Day33  Day34  Day35  Day36  Day37  Day38  Day39  \\\n0   NaN  ...   NaN    NaN    NaN    NaN    NaN    NaN    NaN    NaN    NaN   \n1   NaN  ...   NaN    NaN    NaN    NaN    NaN    NaN    NaN    NaN    NaN   \n2   NaN  ...   NaN    NaN    NaN    NaN    NaN    NaN    NaN    NaN    NaN   \n3   NaN  ...   NaN    NaN    NaN    NaN    NaN    NaN    NaN    NaN    NaN   \n4   NaN  ...   NaN    NaN    NaN    NaN    NaN    NaN    NaN    NaN    NaN   \n\n   Day40  \n0    NaN  \n1    NaN  \n2    NaN  \n3    NaN  \n4    NaN  \n\n[5 rows x 42 columns]\n   RollNo       Name     Day1     Day2     Day3     Day4  Day5  Day6  Day7  \\\n0       1  Raj Aryan  Present      NaN  Present   Absent   NaN   NaN   NaN   \n1       2    Present  Present      NaN  Present  Present   NaN   NaN   NaN   \n2       3   Hemanshu      NaN  Present  Present   Absent   NaN   NaN   NaN   \n3       4      Krish  Present  Present  Present  Present   NaN   NaN   NaN   \n4       5    Prateek   Absent   Absent  Present   Absent   NaN   NaN   NaN   \n\n   Day8  ... Day31  Day32  Day33  Day34  Day35  Day36  Day37  Day38  Day39  \\\n0   NaN  ...   NaN    NaN    NaN    NaN    NaN    NaN    NaN    NaN    NaN   \n1   NaN  ...   NaN    NaN    NaN    NaN    NaN    NaN    NaN    NaN    NaN   \n2   NaN  ...   NaN    NaN    NaN    NaN    NaN    NaN    NaN    NaN    NaN   \n3   NaN  ...   NaN    NaN    NaN    NaN    NaN    NaN    NaN    NaN    NaN   \n4   NaN  ...   NaN    NaN    NaN    NaN    NaN    NaN    NaN    NaN    NaN   \n\n   Day40  \n0    NaN  \n1    NaN  \n2    NaN  \n3    NaN  \n4    NaN  \n\n[5 rows x 42 columns]\n"
     ]
    }
   ],
   "source": [
    "df = pd.ExcelFile('output.xlsx')\n",
    "Sheet_names_list = df.sheet_names\n",
    "dflist = []\n",
    "\n",
    "for sheet in Sheet_names_list :\n",
    "   dflist.append(df.parse(sheet_name=sheet,index_col=None))\n",
    "name = \"Raj Aryan\"\n",
    "rno = 4\n",
    "for i in range(6):\n",
    "        print(dflist[i][(dflist[i].Name != name) | (dflist[i].RollNo != 4)])\n"
   ]
  },
  {
   "cell_type": "code",
   "execution_count": null,
   "metadata": {},
   "outputs": [],
   "source": []
  }
 ]
}